{
  "nbformat": 4,
  "nbformat_minor": 0,
  "metadata": {
    "colab": {
      "provenance": [],
      "authorship_tag": "ABX9TyOIB6iGb0ET4+u67UHamBVP",
      "include_colab_link": true
    },
    "kernelspec": {
      "name": "python3",
      "display_name": "Python 3"
    },
    "language_info": {
      "name": "python"
    }
  },
  "cells": [
    {
      "cell_type": "markdown",
      "metadata": {
        "id": "view-in-github",
        "colab_type": "text"
      },
      "source": [
        "<a href=\"https://colab.research.google.com/github/NallelyHernandezG/Simulacion-I/blob/main/Prueba_K_S.ipynb\" target=\"_parent\"><img src=\"https://colab.research.google.com/assets/colab-badge.svg\" alt=\"Open In Colab\"/></a>"
      ]
    },
    {
      "cell_type": "code",
      "source": [
        "from scipy.stats import kstest\n",
        "import numpy as np\n",
        "\n",
        "print(\"***** PRUEBA K-S *****\\n\")\n",
        "\n",
        "#Solicitamos ingresar los datos de la muestra de números aleatorios\n",
        "sample_size = int(input(\"Ingrese tamaño de la muestra de números aleatorios: \"))\n",
        "print(\"Ingrese los números separados por espacios: \")\n",
        "random_numbers = list(map(float, input().split()))\n",
        "\n",
        "#Solicitamos ingresar parámetrosde la distribución teórica\n",
        "theoretical_distribution = input(\"Ingrese nombre de la distribución (ejemplo 'norm' para distribución normal)\")\n",
        "\n",
        "#Realizamos prueba K-S\n",
        "ks_statistic, p_value = kstest(random_numbers, theoretical_distribution)\n",
        "\n",
        "#Imprimir resultados\n",
        "print(\"\\nEstadística de prueba K-S: \", ks_statistic)\n",
        "print(\"Valor p: \", p_value)\n",
        "\n",
        "#Interpretación de resultados\n",
        "alpha = 0.5\n",
        "if p_value < alpha:\n",
        "    print(\"Se rechaza la hipótesis nula; la muestra NO sigue la distribución teórica\")\n",
        "else:\n",
        "    print(\"No se puede rechazar la hipótesis nula; la muestra sigue la distribución teórica\")"
      ],
      "metadata": {
        "colab": {
          "base_uri": "https://localhost:8080/"
        },
        "id": "B0jKJ4J2lg1y",
        "outputId": "cc999131-bcab-491b-d17c-5f65875865eb"
      },
      "execution_count": 2,
      "outputs": [
        {
          "output_type": "stream",
          "name": "stdout",
          "text": [
            "***** PRUEBA K-S *****\n",
            "\n",
            "Ingrese tamaño de la muestra de números aleatorios: 5\n",
            "Ingrese los números separados por espacios: \n",
            "2.3 1.8 0.75 1.97 4.1\n",
            "Ingrese nombre de la distribución (ejemplo 'norm' para distribución normal)norm\n",
            "\n",
            "Estadística de prueba K-S:  0.7733726476231317\n",
            "Valor p:  0.0011995035040931227\n",
            "Se rechaza la hipótesis nula; la muestra NO sigue la distribución teórica\n"
          ]
        }
      ]
    }
  ]
}