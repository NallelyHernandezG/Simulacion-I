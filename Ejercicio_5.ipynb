{
  "nbformat": 4,
  "nbformat_minor": 0,
  "metadata": {
    "colab": {
      "provenance": [],
      "authorship_tag": "ABX9TyPILH92NWRQnzA2Xa/44/b4",
      "include_colab_link": true
    },
    "kernelspec": {
      "name": "python3",
      "display_name": "Python 3"
    },
    "language_info": {
      "name": "python"
    }
  },
  "cells": [
    {
      "cell_type": "markdown",
      "metadata": {
        "id": "view-in-github",
        "colab_type": "text"
      },
      "source": [
        "<a href=\"https://colab.research.google.com/github/NallelyHernandezG/Simulacion-I/blob/main/Ejercicio_5.ipynb\" target=\"_parent\"><img src=\"https://colab.research.google.com/assets/colab-badge.svg\" alt=\"Open In Colab\"/></a>"
      ]
    },
    {
      "cell_type": "code",
      "execution_count": null,
      "metadata": {
        "colab": {
          "base_uri": "https://localhost:8080/"
        },
        "id": "02XfvJ--kykh",
        "outputId": "3beba7d0-5ebd-4939-b04b-93ea46db6b1b"
      },
      "outputs": [
        {
          "output_type": "execute_result",
          "data": {
            "text/plain": [
              "0.9982"
            ]
          },
          "metadata": {},
          "execution_count": 1
        }
      ],
      "source": [
        "import numpy as np\n",
        "\n",
        "# Parámetros de la distribución triangular\n",
        "a = 190\n",
        "b = 210\n",
        "c = 230\n",
        "\n",
        "# Media y varianza de la distribución triangular\n",
        "mu = (a + b + c) / 3\n",
        "varianza = (a**2 + b**2 + c**2 - a*b - a*c - b*c) / 18\n",
        "sigma = np.sqrt(varianza)\n",
        "\n",
        "# Parámetros para la simulación\n",
        "capacidad = 1000  # capacidad del camión en kg\n",
        "n_tinas = 5  # número de tinas transportadas por día\n",
        "n_simulaciones = 10000\n",
        "\n",
        "# Generar pesos de las tinas usando la distribución triangular\n",
        "pesos = np.random.triangular(a, b, c, (n_simulaciones, n_tinas))\n",
        "\n",
        "# Calcular los pesos totales por día\n",
        "pesos_totales = np.sum(pesos, axis=1)\n",
        "\n",
        "# Calcular la probabilidad de exceder la capacidad del camión\n",
        "probabilidad_exceso = np.mean(pesos_totales > capacidad)\n",
        "\n",
        "probabilidad_exceso\n"
      ]
    }
  ]
}