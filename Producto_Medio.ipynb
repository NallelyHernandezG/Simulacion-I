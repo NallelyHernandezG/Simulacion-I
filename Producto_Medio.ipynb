{
  "nbformat": 4,
  "nbformat_minor": 0,
  "metadata": {
    "colab": {
      "provenance": [],
      "authorship_tag": "ABX9TyPkQAYybV0bkp2bRAH3VC9s",
      "include_colab_link": true
    },
    "kernelspec": {
      "name": "python3",
      "display_name": "Python 3"
    },
    "language_info": {
      "name": "python"
    }
  },
  "cells": [
    {
      "cell_type": "markdown",
      "metadata": {
        "id": "view-in-github",
        "colab_type": "text"
      },
      "source": [
        "<a href=\"https://colab.research.google.com/github/NallelyHernandezG/Simulacion-I/blob/main/Producto_Medio.ipynb\" target=\"_parent\"><img src=\"https://colab.research.google.com/assets/colab-badge.svg\" alt=\"Open In Colab\"/></a>"
      ]
    },
    {
      "cell_type": "code",
      "source": [
        "import pandas as pd\n",
        "\n",
        "def obtener_centro_3_digitos(x,y):\n",
        "\n",
        "\n",
        "  producto = x * y\n",
        "  centro = str(producto)[1:4] #Obtener centro de 3 dígitos\n",
        "  return int(centro)\n",
        "\n",
        "#Solicitamos las semillas iniciales\n",
        "x = int(input(\"Ingrese la semilla X: \"))\n",
        "y = int(input(\"Ingrese la semilla Y: \"))\n",
        "\n",
        "#Se crea una lista para almacenar los resultados de cada iteración\n",
        "resultados = []\n",
        "\n",
        "#Generamos 10 números aleatorios\n",
        "for i in range(10):\n",
        "  centro = obtener_centro_3_digitos(x,y)\n",
        "  numero_aleatorio = centro / 1000 #Se genera número aleatorio\n",
        "  resultados.append({'Semilla X':x, 'Semilla Y':y, 'Centro': centro, 'Número Aleatorio': numero_aleatorio})\n",
        "  x = centro #El centro se convierte en la siguiente semilla para la siguiente iteración\n",
        "\n",
        "#Creamos un dataframe con los resultados\n",
        "df = pd.DataFrame(resultados)\n",
        "\n",
        "#Se imprime tabla\n",
        "print(df)"
      ],
      "metadata": {
        "colab": {
          "base_uri": "https://localhost:8080/"
        },
        "id": "L_1_SqQpN7jA",
        "outputId": "f0152204-c9c8-4727-f33a-31a1c751538c"
      },
      "execution_count": 4,
      "outputs": [
        {
          "output_type": "stream",
          "name": "stdout",
          "text": [
            "Ingrese la semilla X: 9423\n",
            "Ingrese la semilla Y: 6372\n",
            "   Semilla X  Semilla Y  Centro  Número Aleatorio\n",
            "0       9423       6372       4             0.004\n",
            "1          4       6372     548             0.548\n",
            "2        548       6372     491             0.491\n",
            "3        491       6372     128             0.128\n",
            "4        128       6372     156             0.156\n",
            "5        156       6372     940             0.940\n",
            "6        940       6372     989             0.989\n",
            "7        989       6372     301             0.301\n",
            "8        301       6372     917             0.917\n",
            "9        917       6372     843             0.843\n"
          ]
        }
      ]
    }
  ]
}