{
  "nbformat": 4,
  "nbformat_minor": 0,
  "metadata": {
    "colab": {
      "provenance": [],
      "authorship_tag": "ABX9TyNvUw8OucSINzIOHdLf4v78",
      "include_colab_link": true
    },
    "kernelspec": {
      "name": "python3",
      "display_name": "Python 3"
    },
    "language_info": {
      "name": "python"
    }
  },
  "cells": [
    {
      "cell_type": "markdown",
      "metadata": {
        "id": "view-in-github",
        "colab_type": "text"
      },
      "source": [
        "<a href=\"https://colab.research.google.com/github/NallelyHernandezG/Simulacion-I/blob/main/Producto_Medio.ipynb\" target=\"_parent\"><img src=\"https://colab.research.google.com/assets/colab-badge.svg\" alt=\"Open In Colab\"/></a>"
      ]
    },
    {
      "cell_type": "code",
      "source": [
        "from tabulate import tabulate\n",
        "\n",
        "print(\"Programa del Producto Medio\\n\")\n",
        "\n",
        "#Se pide primer numero de 3 digitos\n",
        "while True:\n",
        "  n_a = input(\"Escriba su numero de 3 digitos: \")\n",
        "  if n_a.isdigit() and len(n_a) == 3:\n",
        "    n_a = int(n_a)\n",
        "    break\n",
        "  else:\n",
        "    print(\"Por favor, escriba un numero de 3 digitos valido\")\n",
        "\n",
        "#Se solicita un nuevo numero\n",
        "while True:\n",
        "  n_a2 = input(\"Escriba un nuevo numero de 3 digitos: \")\n",
        "  if n_a2.isdigit() and len(n_a2) == 3:\n",
        "    n_a2 = int(n_a2)\n",
        "    break\n",
        "  else:\n",
        "    print(\"Por favor, escriba un numero de 3 digitos valido \")\n",
        "\n",
        "#Se pide el numero de iteraciones\n",
        "iteraciones = int(input(\"Escriba la cantidad de iteraciones: \"))\n",
        "\n",
        "#Se guardan los resultados\n",
        "resultado = []\n",
        "\n",
        "#Se construye datos en la tabla\n",
        "for i in range(iteraciones):\n",
        "\n",
        "#Multiplicacion de los dos numeros\n",
        "  n_a3 = n_a * n_a2\n",
        "\n",
        "#El resultado se convierte a cadena y obtenemos su longitud\n",
        "r_str = str(n_a3)\n",
        "r_length = len(r_str)\n",
        "\n",
        "#Verificando si la longitud es par, de ser asi se añade 0 al principio\n",
        "#r_length += 1. Se agrega un 0 al principio por lo que la longitud incrementa\n",
        "if r_length %2 == 0:\n",
        "  r_star = '0' + r_str\n",
        "  r_length += 1\n",
        "\n",
        "#Se calcula la posicion inicial y final para los 3 digitos de en medio\n",
        "inicio = (r_length - 3) // 2\n",
        "final = inicio +3\n",
        "\n",
        "#Extraemos los 3 digitos en medio\n",
        "medio = r_str[inicio:final]\n",
        "\n",
        "#Se almacenan los resultados en la lista\n",
        "resultado.append((i + 1, n_a, n_a2, n_a3, medio))\n",
        "\n",
        "#Los nuevos valores de n_a y n_a2 se establecen para la siguiente iteracion\n",
        "n_a = n_a2\n",
        "n_a2 = int(medio)\n",
        "\n",
        "#Imprimir tabla\n",
        "headers = [\"Iteracion\", \"Primer Factor\", \"Segundo Factor\", \"Producto\", \"Digitos de en medio\"]\n",
        "print(tabulate(resultado, headers=headers, tablefmt = \"grid\"))"
      ],
      "metadata": {
        "id": "gF0WBsgixhjU",
        "colab": {
          "base_uri": "https://localhost:8080/"
        },
        "outputId": "71b8fa86-51b6-48fb-e49a-3f5c0997cde0"
      },
      "execution_count": 6,
      "outputs": [
        {
          "output_type": "stream",
          "name": "stdout",
          "text": [
            "Programa del Producto Medio\n",
            "\n",
            "Escriba su numero de 3 digitos: 119\n",
            "Escriba un nuevo numero de 3 digitos: 115\n",
            "Escriba la cantidad de iteraciones: 3\n",
            "+-------------+-----------------+------------------+------------+-----------------------+\n",
            "|   Iteracion |   Primer Factor |   Segundo Factor |   Producto |   Digitos de en medio |\n",
            "+=============+=================+==================+============+=======================+\n",
            "|           3 |             119 |              115 |      13685 |                   368 |\n",
            "+-------------+-----------------+------------------+------------+-----------------------+\n"
          ]
        }
      ]
    }
  ]
}