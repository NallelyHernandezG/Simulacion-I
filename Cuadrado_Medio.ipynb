{
  "nbformat": 4,
  "nbformat_minor": 0,
  "metadata": {
    "colab": {
      "provenance": [],
      "authorship_tag": "ABX9TyMsFaBeRUXV1bfwcPxXmaJ1",
      "include_colab_link": true
    },
    "kernelspec": {
      "name": "python3",
      "display_name": "Python 3"
    },
    "language_info": {
      "name": "python"
    }
  },
  "cells": [
    {
      "cell_type": "markdown",
      "metadata": {
        "id": "view-in-github",
        "colab_type": "text"
      },
      "source": [
        "<a href=\"https://colab.research.google.com/github/NallelyHernandezG/Simulacion-I/blob/main/Cuadrado_Medio.ipynb\" target=\"_parent\"><img src=\"https://colab.research.google.com/assets/colab-badge.svg\" alt=\"Open In Colab\"/></a>"
      ]
    },
    {
      "cell_type": "code",
      "source": [
        "import pandas as pd\n",
        "\n",
        "#Programa para generar números aleatorios mediante Cuadrado Medio\n",
        "\n",
        "print(\"***** CUADRADO MEDIO *****\")\n",
        "\n",
        "def cuadrado_medio(semilla, iteraciones):\n",
        "\n",
        "    resultados = []\n",
        "    for _ in range(iteraciones):\n",
        "      semilla_cuadrada = semilla ** 2\n",
        "      semilla_str = str(semilla_cuadrada).zfill(8) #Revisar que la cadena tenga al menos 8 dígitos\n",
        "      centro = int(semilla_str[2:6]) #Se obtienen los 4 dígitos centrales\n",
        "      multiplicacion = semilla * semilla\n",
        "      semilla = centro\n",
        "      numero_aleatorio = centro / 10000\n",
        "      resultados.append((multiplicacion, centro, numero_aleatorio))\n",
        "    return resultados\n",
        "\n",
        "#Se solicita una semilla inicial de cuatro dígitos\n",
        "semilla = int(input(\"Ingresa semilla de 4 dígitos: \"))\n",
        "while len(str(semilla)) != 4:\n",
        "    print(\"La semilla debe de ser de 4 dígitos: \")\n",
        "    semilla = int(imput(\"Ingrese semilla de 4 dígitos: \"))\n",
        "\n",
        "#Generando números pseudoaleatorios\n",
        "iteraciones = 10\n",
        "numeros_aleatorios = cuadrado_medio(semilla, iteraciones)\n",
        "\n",
        "#Creando dataframe para los resultados\n",
        "df = pd.DataFrame(numeros_aleatorios, columns=['Multiplicacion', 'Centro', 'Número Aleatorio'])\n",
        "\n",
        "#Imprimir tabla\n",
        "print(df)"
      ],
      "metadata": {
        "colab": {
          "base_uri": "https://localhost:8080/"
        },
        "id": "ZsJOLm_riddP",
        "outputId": "5daa6593-d81b-4f76-aef5-e237a333d08a"
      },
      "execution_count": 3,
      "outputs": [
        {
          "output_type": "stream",
          "name": "stdout",
          "text": [
            "***** CUADRADO MEDIO *****\n",
            "Ingresa semilla de 4 dígitos: 5735\n",
            "   Multiplicacion  Centro  Número Aleatorio\n",
            "0        32890225    8902            0.8902\n",
            "1        79245604    2456            0.2456\n",
            "2         6031936     319            0.0319\n",
            "3          101761    1017            0.1017\n",
            "4         1034289     342            0.0342\n",
            "5          116964    1169            0.1169\n",
            "6         1366561    3665            0.3665\n",
            "7        13432225    4322            0.4322\n",
            "8        18679684    6796            0.6796\n",
            "9        46185616    1856            0.1856\n"
          ]
        }
      ]
    },
    {
      "cell_type": "markdown",
      "source": [],
      "metadata": {
        "id": "M5jzHM1mjivt"
      }
    }
  ]
}