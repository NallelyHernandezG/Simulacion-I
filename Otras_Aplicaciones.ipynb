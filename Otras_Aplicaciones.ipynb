{
  "nbformat": 4,
  "nbformat_minor": 0,
  "metadata": {
    "colab": {
      "provenance": [],
      "authorship_tag": "ABX9TyPHgGWp/SgKP+uXSCHf6kPU",
      "include_colab_link": true
    },
    "kernelspec": {
      "name": "python3",
      "display_name": "Python 3"
    },
    "language_info": {
      "name": "python"
    }
  },
  "cells": [
    {
      "cell_type": "markdown",
      "metadata": {
        "id": "view-in-github",
        "colab_type": "text"
      },
      "source": [
        "<a href=\"https://colab.research.google.com/github/NallelyHernandezG/Simulacion-I/blob/main/Otras_Aplicaciones.ipynb\" target=\"_parent\"><img src=\"https://colab.research.google.com/assets/colab-badge.svg\" alt=\"Open In Colab\"/></a>"
      ]
    },
    {
      "cell_type": "code",
      "execution_count": 1,
      "metadata": {
        "colab": {
          "base_uri": "https://localhost:8080/"
        },
        "id": "FN7vWUP1YBy0",
        "outputId": "718ebdca-ef8e-4d76-db0e-b3062e57182b"
      },
      "outputs": [
        {
          "output_type": "stream",
          "name": "stdout",
          "text": [
            "Resultados promedio después de 1000 simulaciones:\n",
            "Jugador 1 (apuesta fija): 0.005\n",
            "Jugador 2 (estrategia progresiva): -0.535\n"
          ]
        }
      ],
      "source": [
        "\n",
        "import random\n",
        "\n",
        "def jugar_ruleta():\n",
        "    # Colores en la ruleta: 10 rojos, 10 negros, 2 verdes\n",
        "    colores = ['rojo'] * 10 + ['negro'] * 10 + ['verde'] * 2\n",
        "\n",
        "    # Jugador 1: Apuesta fija de $1 al rojo\n",
        "    saldo_jugador1 = 0\n",
        "    apuesta_jugador1 = 1\n",
        "\n",
        "    # Jugador 2: Estrategia de apuesta progresiva\n",
        "    saldo_jugador2 = 0\n",
        "    apuesta_jugador2 = 1\n",
        "    max_apuesta_jugador2 = 500\n",
        "\n",
        "    while True:\n",
        "        # Simular una jugada de la ruleta\n",
        "        resultado = random.choice(colores)\n",
        "\n",
        "        if resultado == 'rojo':\n",
        "            saldo_jugador1 += apuesta_jugador1\n",
        "            saldo_jugador2 += apuesta_jugador2\n",
        "            apuesta_jugador2 = 1  # Reiniciar la apuesta para el jugador 2\n",
        "\n",
        "        elif resultado == 'negro':\n",
        "            saldo_jugador1 -= apuesta_jugador1\n",
        "            saldo_jugador2 -= apuesta_jugador2\n",
        "            apuesta_jugador2 *= 2  # Duplicar la apuesta para el jugador 2\n",
        "\n",
        "            # Limitar la apuesta máxima del jugador 2 a $500\n",
        "            if apuesta_jugador2 > max_apuesta_jugador2:\n",
        "                apuesta_jugador2 = max_apuesta_jugador2\n",
        "\n",
        "        else:  # Si el resultado es 'verde', se repite la jugada\n",
        "            continue\n",
        "\n",
        "        # Mostrar resultados o detener según las condiciones\n",
        "        if saldo_jugador1 <= -1 or saldo_jugador2 <= -1:\n",
        "            break\n",
        "\n",
        "    return saldo_jugador1, saldo_jugador2\n",
        "\n",
        "# Simular múltiples juegos para obtener resultados estadísticos\n",
        "num_simulaciones = 1000\n",
        "resultados_jugador1 = []\n",
        "resultados_jugador2 = []\n",
        "\n",
        "for _ in range(num_simulaciones):\n",
        "    saldo1, saldo2 = jugar_ruleta()\n",
        "    resultados_jugador1.append(saldo1)\n",
        "    resultados_jugador2.append(saldo2)\n",
        "\n",
        "# Calcular estadísticas\n",
        "promedio_jugador1 = sum(resultados_jugador1) / num_simulaciones\n",
        "promedio_jugador2 = sum(resultados_jugador2) / num_simulaciones\n",
        "\n",
        "print(\"Resultados promedio después de\", num_simulaciones, \"simulaciones:\")\n",
        "print(\"Jugador 1 (apuesta fija):\", promedio_jugador1)\n",
        "print(\"Jugador 2 (estrategia progresiva):\", promedio_jugador2)"
      ]
    }
  ]
}