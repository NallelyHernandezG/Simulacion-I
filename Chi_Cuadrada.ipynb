{
  "nbformat": 4,
  "nbformat_minor": 0,
  "metadata": {
    "colab": {
      "provenance": [],
      "authorship_tag": "ABX9TyPqgPFh2T7YumvaCGS4tdDt",
      "include_colab_link": true
    },
    "kernelspec": {
      "name": "python3",
      "display_name": "Python 3"
    },
    "language_info": {
      "name": "python"
    }
  },
  "cells": [
    {
      "cell_type": "markdown",
      "metadata": {
        "id": "view-in-github",
        "colab_type": "text"
      },
      "source": [
        "<a href=\"https://colab.research.google.com/github/NallelyHernandezG/Simulacion-I/blob/main/Chi_Cuadrada.ipynb\" target=\"_parent\"><img src=\"https://colab.research.google.com/assets/colab-badge.svg\" alt=\"Open In Colab\"/></a>"
      ]
    },
    {
      "cell_type": "code",
      "source": [
        "import numpy as np\n",
        "from scipy.stats import chi2\n",
        "\n",
        "#Programa para prueba de chi cuadrada\n",
        "\n",
        "print(\"***** PRUEBA CHI-CUADRADA *****\\n\")\n",
        "\n",
        "def chi_cuadrada(secuencia, k):\n",
        "    frec_esperada = len(secuencia) / k\n",
        "    frec_observada, _ = np.histogram(secuencia, bins=k)\n",
        "    estadistico = np.sum((frec_observada - frec_esperada)**2 / frec_esperada)\n",
        "    p_valor = 1 - chi2.cdf(estadistico, k - 1)\n",
        "    return estadistico, p_valor\n",
        "\n",
        "#Solicitamos secuencia de números pseudoaleatorios al usuario\n",
        "secuencia = []\n",
        "while True:\n",
        "    try:\n",
        "        num = float(input(\"Ingrese número pseudoaleaotio (o cualquier valor no numérico para terminar): \"))\n",
        "        secuencia.append(num)\n",
        "    except ValueError:\n",
        "        break\n",
        "\n",
        "#Solicitamos números de intervalos (bins) para la prueba\n",
        "k = int(input(\"Ingrese número de intervalos (bins) para la prueba: \"))\n",
        "\n",
        "#Se realiza la prueba\n",
        "estadistico_chi_cuadrada, p_valor_chi_cuadrada = chi_cuadrada(secuencia, k)\n",
        "\n",
        "#Mostramos resultados\n",
        "print(\"\\nResultados de la prueba: \")\n",
        "print(\"Estadístico de Chi-Cuadrada: \", estadistico_chi_cuadrada)\n",
        "print(\"Valor p: \", p_valor_chi_cuadrada)\n",
        "if p_valor_chi_cuadrada > 0.05:\n",
        "    print(\"No se rechaza la hipótesis nula (los datos se distribuyen uniformemente)\")\n",
        "else:\n",
        "    print(\"Se rechaza la hipótesis numa (los datos no se distribuyen uniformemente)\")"
      ],
      "metadata": {
        "colab": {
          "base_uri": "https://localhost:8080/"
        },
        "id": "b3-Bqo6-lZOK",
        "outputId": "c764508e-aeb5-4795-ed22-93ec41f7d7bf"
      },
      "execution_count": 1,
      "outputs": [
        {
          "output_type": "stream",
          "name": "stdout",
          "text": [
            "***** PRUEBA CHI-CUADRADA *****\n",
            "\n",
            "Ingrese número pseudoaleaotio (o cualquier valor no numérico para terminar): 4\n",
            "Ingrese número pseudoaleaotio (o cualquier valor no numérico para terminar): 2.3\n",
            "Ingrese número pseudoaleaotio (o cualquier valor no numérico para terminar): 0.68\n",
            "Ingrese número pseudoaleaotio (o cualquier valor no numérico para terminar): 0.64\n",
            "Ingrese número pseudoaleaotio (o cualquier valor no numérico para terminar): 12.37\n",
            "Ingrese número pseudoaleaotio (o cualquier valor no numérico para terminar): 1.24\n",
            "Ingrese número pseudoaleaotio (o cualquier valor no numérico para terminar): p\n",
            "Ingrese número de intervalos (bins) para la prueba: 4\n",
            "\n",
            "Resultados de la prueba: \n",
            "Estadístico de Chi-Cuadrada:  6.000000000000001\n",
            "Valor p:  0.11161022509471252\n",
            "No se rechaza la hipótesis nula (los datos se distribuyen uniformemente)\n"
          ]
        }
      ]
    }
  ]
}