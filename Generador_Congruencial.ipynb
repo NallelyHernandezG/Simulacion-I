{
  "nbformat": 4,
  "nbformat_minor": 0,
  "metadata": {
    "colab": {
      "provenance": [],
      "authorship_tag": "ABX9TyOSqri87FgYNoOT4T0Q+psX",
      "include_colab_link": true
    },
    "kernelspec": {
      "name": "python3",
      "display_name": "Python 3"
    },
    "language_info": {
      "name": "python"
    }
  },
  "cells": [
    {
      "cell_type": "markdown",
      "metadata": {
        "id": "view-in-github",
        "colab_type": "text"
      },
      "source": [
        "<a href=\"https://colab.research.google.com/github/NallelyHernandezG/Simulacion-I/blob/main/Generador_Congruencial.ipynb\" target=\"_parent\"><img src=\"https://colab.research.google.com/assets/colab-badge.svg\" alt=\"Open In Colab\"/></a>"
      ]
    },
    {
      "cell_type": "code",
      "source": [
        "from tabulate import tabulate\n",
        "\n",
        "print(\"***** MÉTODO GENERADOR CONGRUENCIAL *****\\n\")\n",
        "\n",
        "def generador_congruencial(a, c, m, semilla, cantidad):\n",
        "    numeros_generados = []\n",
        "    xn = semilla\n",
        "    for _ in range(cantidad):\n",
        "      xn = (a * xn + c) % m\n",
        "      numeros_generados.append(xn)\n",
        "    return numeros_generados\n",
        "\n",
        "\n",
        "#Parámetros del generador (se tomaron de un ejemplo)\n",
        "a = 6\n",
        "c = 9\n",
        "m = 23\n",
        "\n",
        "#Solicitando la semilla y la cantidad de número aleatorios\n",
        "semilla = int(input(\"Ingrese semilla inicial: \"))\n",
        "cantidad = int(input(\"Ingrese cantidad de números aleatorios a generar: \"))\n",
        "\n",
        "#Generando secuencia de números pseudoaleatorios\n",
        "secuencia = generador_congruencial(a, c, m, semilla, cantidad)\n",
        "\n",
        "#Organizando números en la tabla\n",
        "tabla = []\n",
        "for i, num in enumerate(secuencia, start = 1):\n",
        "    tabla.append([i, num])\n",
        "\n",
        "#Imprimir tabla\n",
        "print(\"Secuencia generada: \")\n",
        "print(tabulate(tabla, headers=[\"Índice\", \"Número\"]))"
      ],
      "metadata": {
        "id": "KRU6nMW8mr99",
        "colab": {
          "base_uri": "https://localhost:8080/"
        },
        "outputId": "055622ba-1997-4a37-e9d8-f802166064b5"
      },
      "execution_count": 5,
      "outputs": [
        {
          "output_type": "stream",
          "name": "stdout",
          "text": [
            "***** MÉTODO GENERADOR CONGRUENCIAL *****\n",
            "\n",
            "Ingrese semilla inicial: 1\n",
            "Ingrese cantidad de números aleatorios a generar: 15\n",
            "Secuencia generada: \n",
            "  Índice    Número\n",
            "--------  --------\n",
            "       1        15\n",
            "       2         7\n",
            "       3         5\n",
            "       4        16\n",
            "       5        13\n",
            "       6        18\n",
            "       7         2\n",
            "       8        21\n",
            "       9        20\n",
            "      10        14\n",
            "      11         1\n",
            "      12        15\n",
            "      13         7\n",
            "      14         5\n",
            "      15        16\n"
          ]
        }
      ]
    }
  ]
}