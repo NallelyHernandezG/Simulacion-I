{
  "nbformat": 4,
  "nbformat_minor": 0,
  "metadata": {
    "colab": {
      "provenance": [],
      "authorship_tag": "ABX9TyPpoA73XOAbQ2OCmTHWmxUC",
      "include_colab_link": true
    },
    "kernelspec": {
      "name": "python3",
      "display_name": "Python 3"
    },
    "language_info": {
      "name": "python"
    }
  },
  "cells": [
    {
      "cell_type": "markdown",
      "metadata": {
        "id": "view-in-github",
        "colab_type": "text"
      },
      "source": [
        "<a href=\"https://colab.research.google.com/github/NallelyHernandezG/Simulacion-I/blob/main/Prueba_de_Corridas.ipynb\" target=\"_parent\"><img src=\"https://colab.research.google.com/assets/colab-badge.svg\" alt=\"Open In Colab\"/></a>"
      ]
    },
    {
      "cell_type": "code",
      "execution_count": 2,
      "metadata": {
        "id": "x6GF2wGsxAb5",
        "colab": {
          "base_uri": "https://localhost:8080/"
        },
        "outputId": "389f8934-6284-445d-ee39-a431df271685"
      },
      "outputs": [
        {
          "output_type": "stream",
          "name": "stdout",
          "text": [
            "***** PRUEBA DE CORRIDAS *****\n",
            "\n",
            "Ingrese la secuencia de números separados por espacios: 1 7 6 2 4\n",
            "Estadística de prueba: -44.7037037037037\n"
          ]
        }
      ],
      "source": [
        "\n",
        "print(\"***** PRUEBA DE CORRIDAS *****\\n\")\n",
        "\n",
        "\n",
        "def calcular_corridas(sequence):\n",
        "    # Calcular la mediana de la secuencia\n",
        "    median = sum(sequence) / len(sequence)\n",
        "\n",
        "    # Contar el número de corridas\n",
        "    corridas = 1\n",
        "    for i in range(1, len(sequence)):\n",
        "        if sequence[i] > median and sequence[i - 1] <= median:\n",
        "            corridas += 1\n",
        "        elif sequence[i] < median and sequence[i - 1] >= median:\n",
        "            corridas += 1\n",
        "\n",
        "    return corridas\n",
        "\n",
        "def prueba_corridas(sequence):\n",
        "    # Calcular el número de corridas observado\n",
        "    num_corridas_observado = calcular_corridas(sequence)\n",
        "\n",
        "    # Calcular el número esperado de corridas (bajo H0)\n",
        "    n = len(sequence)\n",
        "    num_corridas_esperado = 1 + (2 * sum(sequence) - n) ** 2 / (2 * n - 1)\n",
        "\n",
        "    # Calcular la estadística de prueba\n",
        "    estadistica_prueba = (num_corridas_observado - num_corridas_esperado) / ((2 * n - 1) ** 0.5)\n",
        "\n",
        "    return estadistica_prueba\n",
        "\n",
        "# Solicitar al usuario que ingrese la secuencia de números\n",
        "sequence = list(map(int, input(\"Ingrese la secuencia de números separados por espacios: \").split()))\n",
        "\n",
        "# Realizar la prueba de corridas\n",
        "test_statistic = prueba_corridas(sequence)\n",
        "\n",
        "# Imprimir el resultado\n",
        "print(\"Estadística de prueba:\", test_statistic)\n"
      ]
    }
  ]
}