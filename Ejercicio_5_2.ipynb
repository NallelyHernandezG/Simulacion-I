{
  "nbformat": 4,
  "nbformat_minor": 0,
  "metadata": {
    "colab": {
      "provenance": [],
      "authorship_tag": "ABX9TyPI/ld0fce2V1Ox58+e2kyg",
      "include_colab_link": true
    },
    "kernelspec": {
      "name": "python3",
      "display_name": "Python 3"
    },
    "language_info": {
      "name": "python"
    }
  },
  "cells": [
    {
      "cell_type": "markdown",
      "metadata": {
        "id": "view-in-github",
        "colab_type": "text"
      },
      "source": [
        "<a href=\"https://colab.research.google.com/github/NallelyHernandezG/Simulacion-I/blob/main/Ejercicio_5_2.ipynb\" target=\"_parent\"><img src=\"https://colab.research.google.com/assets/colab-badge.svg\" alt=\"Open In Colab\"/></a>"
      ]
    },
    {
      "cell_type": "code",
      "execution_count": 1,
      "metadata": {
        "colab": {
          "base_uri": "https://localhost:8080/"
        },
        "id": "xYfLIsRYqa39",
        "outputId": "72dce00b-ff8b-441f-f005-0b18e451cd68"
      },
      "outputs": [
        {
          "output_type": "stream",
          "name": "stdout",
          "text": [
            "Costo total anual (simulación): $0.00\n"
          ]
        }
      ],
      "source": [
        "import random\n",
        "\n",
        "# Definir los parámetros del problema\n",
        "capacidad_camion = 10  # Capacidad del camión en tinas\n",
        "costo_por_tina_enviada = 200  # Costo por enviar una tina adicional\n",
        "dias_por_semana = 5\n",
        "semanas_por_año = 52\n",
        "dias_por_año = dias_por_semana * semanas_por_año\n",
        "\n",
        "# Función para simular la cantidad de tinas producidas cada día\n",
        "def simular_tinas_diarias():\n",
        "    return random.randint(0, capacidad_camion)\n",
        "\n",
        "# Simulación para un año\n",
        "costo_total_anual = 0\n",
        "for _ in range(dias_por_año):\n",
        "    tinas_producidas = simular_tinas_diarias()\n",
        "    if tinas_producidas > capacidad_camion:\n",
        "        costo_total_anual += (tinas_producidas - capacidad_camion) * costo_por_tina_enviada\n",
        "\n",
        "# Promedio del costo total para obtener el costo total anual\n",
        "costo_total_anual_promedio = costo_total_anual / dias_por_año\n",
        "\n",
        "print(\"Costo total anual (simulación): ${:,.2f}\".format(costo_total_anual_promedio))\n"
      ]
    }
  ]
}